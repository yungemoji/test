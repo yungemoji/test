{
  "nbformat": 4,
  "nbformat_minor": 0,
  "metadata": {
    "colab": {
      "name": "enron.ipynb",
      "provenance": [],
      "collapsed_sections": [],
      "include_colab_link": true
    },
    "kernelspec": {
      "name": "python3",
      "display_name": "Python 3"
    },
    "accelerator": "TPU"
  },
  "cells": [
    {
      "cell_type": "markdown",
      "metadata": {
        "id": "view-in-github",
        "colab_type": "text"
      },
      "source": [
        "<a href=\"https://colab.research.google.com/github/mopper97/test/blob/master/enron.ipynb\" target=\"_parent\"><img src=\"https://colab.research.google.com/assets/colab-badge.svg\" alt=\"Open In Colab\"/></a>"
      ]
    },
    {
      "cell_type": "code",
      "metadata": {
        "id": "iuVNqyVSgM3b",
        "colab_type": "code",
        "colab": {}
      },
      "source": [
        "from google.colab import drive\n",
        "drive.mount('/content/drive')"
      ],
      "execution_count": 0,
      "outputs": []
    },
    {
      "cell_type": "code",
      "metadata": {
        "id": "CGIJ1rJMbDlK",
        "colab_type": "code",
        "colab": {}
      },
      "source": [
        "import pandas as pd\n",
        "path = '/content/drive/My Drive/emails.csv'\n",
        "df = pd.read_csv(path, encoding='utf-8')"
      ],
      "execution_count": 0,
      "outputs": []
    },
    {
      "cell_type": "code",
      "metadata": {
        "id": "64QuDC3ae2Oe",
        "colab_type": "code",
        "outputId": "e8bd449a-3822-4279-a452-f94056393f21",
        "colab": {
          "base_uri": "https://localhost:8080/",
          "height": 67
        }
      },
      "source": [
        "\n",
        "df2=df['message']\n",
        "\n",
        "\n",
        "nice_email=[]\n",
        "for i in df2:\n",
        "  if \".pst\" in i or \".nsf\" in i or \".PST\" in i:\n",
        "    nice_email.append(i)\n",
        "  \n",
        "\n"
      ],
      "execution_count": 5,
      "outputs": [
        {
          "output_type": "stream",
          "text": [
            "0\n",
            "513263\n",
            "517401\n"
          ],
          "name": "stdout"
        }
      ]
    },
    {
      "cell_type": "code",
      "metadata": {
        "id": "L7mfIUU3fmJC",
        "colab_type": "code",
        "colab": {}
      },
      "source": [
        "def parse_raw_message(raw_message):\n",
        "    lines = raw_message.split('\\n')\n",
        "    email = {}\n",
        "    message = ''\n",
        "    keys_to_extract = ['from', 'to']\n",
        "    for line in lines:\n",
        "        if ':' not in line:\n",
        "            line = line.strip(\">\")\n",
        "            \n",
        "            message += \" \"+line\n",
        "            email['body'] = message\n",
        "        else:\n",
        "            pairs = line.split(':')\n",
        "            key = pairs[0].lower()\n",
        "            val = pairs[1].strip()\n",
        "            if key in keys_to_extract:\n",
        "                email[key] = val\n",
        "    return email\n",
        "  \n",
        "def parse_into_emails(messages):\n",
        "    emails = [parse_raw_message(message) for message in messages]\n",
        "    return {\n",
        "        'body': map_to_list(emails, 'body'), \n",
        "        'to': map_to_list(emails, 'to'), \n",
        "        'from_': map_to_list(emails, 'from')\n",
        "    }\n",
        "def map_to_list(emails, key):\n",
        "    results = []\n",
        "    for email in emails:\n",
        "        if key not in email:\n",
        "            results.append('')\n",
        "        else:\n",
        "            results.append(email[key])\n",
        "    return results"
      ],
      "execution_count": 0,
      "outputs": []
    },
    {
      "cell_type": "code",
      "metadata": {
        "id": "WL32SDeegDvA",
        "colab_type": "code",
        "colab": {}
      },
      "source": [
        "email_df = pd.DataFrame(parse_into_emails(df2))\n"
      ],
      "execution_count": 0,
      "outputs": []
    },
    {
      "cell_type": "code",
      "metadata": {
        "id": "1HTPJ16ajSn8",
        "colab_type": "code",
        "outputId": "5b053095-6380-4f56-a7e0-118f10d56bc2",
        "colab": {
          "base_uri": "https://localhost:8080/",
          "height": 33
        }
      },
      "source": [
        "body_list=[x for x in email_df['body']]\n",
        "print(len(body_list))"
      ],
      "execution_count": 9,
      "outputs": [
        {
          "output_type": "stream",
          "text": [
            "517401\n"
          ],
          "name": "stdout"
        }
      ]
    },
    {
      "cell_type": "code",
      "metadata": {
        "id": "uf9OyYx57J6h",
        "colab_type": "code",
        "colab": {}
      },
      "source": [
        "testo = []\n",
        "\n",
        "for i in body_list[70001:80000]:\n",
        "  l=i.split()\n",
        "  testo.append(\" \".join(l))"
      ],
      "execution_count": 0,
      "outputs": []
    },
    {
      "cell_type": "code",
      "metadata": {
        "id": "LlHOgLVEMCzs",
        "colab_type": "code",
        "colab": {}
      },
      "source": [
        "import spacy\n",
        "import time\n",
        "start=time.time()\n",
        "nlp = spacy.load(\"en\")\n",
        "\n",
        "sentences=set()\n",
        "for i in testo:\n",
        "  doc=nlp(i)\n",
        "  for sentence in doc.sents:\n",
        "    if sentence.text[0].isupper() and sentence.text[-1]==\".\":\n",
        "      if \"-\"  not in sentence.text:\n",
        "        len_doc = nlp(sentence.text)\n",
        "        if len(len_doc) > 2:\n",
        "          sentences.add(sentence.text)\n",
        "print(time.time()-start)\n",
        "print(len(sentences))\n"
      ],
      "execution_count": 0,
      "outputs": []
    },
    {
      "cell_type": "code",
      "metadata": {
        "id": "T9v56aaelEkh",
        "colab_type": "code",
        "colab": {}
      },
      "source": [
        "\n",
        "df_sents=pd.DataFrame(sentences,columns=[\"message\"])\n"
      ],
      "execution_count": 0,
      "outputs": []
    },
    {
      "cell_type": "code",
      "metadata": {
        "id": "FvPLh9FemarU",
        "colab_type": "code",
        "colab": {}
      },
      "source": [
        "import csv \n",
        "with open('enron_80000.csv','w') as f:\n",
        "  writer=csv.writer(f)\n",
        "  writer.writerow([\"Message\"])\n",
        "  for i in df_sents['message']:\n",
        "    if \"=\" not in i:\n",
        "      writer.writerow([i])\n"
      ],
      "execution_count": 0,
      "outputs": []
    }
  ]
}